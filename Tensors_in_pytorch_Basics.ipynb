{
  "nbformat": 4,
  "nbformat_minor": 0,
  "metadata": {
    "colab": {
      "provenance": [],
      "gpuType": "T4"
    },
    "kernelspec": {
      "name": "python3",
      "display_name": "Python 3"
    },
    "language_info": {
      "name": "python"
    },
    "accelerator": "GPU"
  },
  "cells": [
    {
      "cell_type": "code",
      "execution_count": null,
      "metadata": {
        "colab": {
          "base_uri": "https://localhost:8080/"
        },
        "id": "t19_gq09KjvE",
        "outputId": "f1297058-ce2c-4197-b281-984642cbc771"
      },
      "outputs": [
        {
          "output_type": "stream",
          "name": "stdout",
          "text": [
            "2.6.0+cu124\n"
          ]
        }
      ],
      "source": [
        "import torch\n",
        "print(torch.__version__)"
      ]
    },
    {
      "cell_type": "code",
      "source": [
        "if torch.cuda.is_available():\n",
        "    print(\"GPU is available!\")\n",
        "    print(f\"Using GPU: {torch.cuda.get_device_name(0)}\")\n",
        "else:\n",
        "    print(\"GPU not available. Using CPU.\")"
      ],
      "metadata": {
        "colab": {
          "base_uri": "https://localhost:8080/"
        },
        "id": "W8o-1cUl4M2x",
        "outputId": "9d988bd8-fee6-4162-e804-b4953b86d719"
      },
      "execution_count": null,
      "outputs": [
        {
          "output_type": "stream",
          "name": "stdout",
          "text": [
            "GPU is available!\n",
            "Using GPU: Tesla T4\n"
          ]
        }
      ]
    },
    {
      "cell_type": "markdown",
      "source": [
        "## Creating a Tensor"
      ],
      "metadata": {
        "id": "BFcs4wpz4wlA"
      }
    },
    {
      "cell_type": "code",
      "source": [
        "# using empty ( to create a tensor using torch- here values are already stored in memory , it will show)\n",
        "a = torch.empty(2,3)"
      ],
      "metadata": {
        "id": "AYzOQK7n4nNq"
      },
      "execution_count": null,
      "outputs": []
    },
    {
      "cell_type": "code",
      "source": [
        "# check type\n",
        "type(a)"
      ],
      "metadata": {
        "colab": {
          "base_uri": "https://localhost:8080/"
        },
        "id": "cSOoTAZY5FR1",
        "outputId": "5edae90a-a853-4590-80df-77a58e589de5"
      },
      "execution_count": null,
      "outputs": [
        {
          "output_type": "execute_result",
          "data": {
            "text/plain": [
              "torch.Tensor"
            ]
          },
          "metadata": {},
          "execution_count": 4
        }
      ]
    },
    {
      "cell_type": "code",
      "source": [
        "# using zeros\n",
        "torch.zeros(2,3)"
      ],
      "metadata": {
        "colab": {
          "base_uri": "https://localhost:8080/"
        },
        "id": "LxVQPOVN47Dt",
        "outputId": "3fcd8986-1765-41fd-cf50-03048b2ea9b7"
      },
      "execution_count": null,
      "outputs": [
        {
          "output_type": "execute_result",
          "data": {
            "text/plain": [
              "tensor([[0., 0., 0.],\n",
              "        [0., 0., 0.]])"
            ]
          },
          "metadata": {},
          "execution_count": 5
        }
      ]
    },
    {
      "cell_type": "code",
      "source": [
        "# using ones\n",
        "torch.ones(2,3)"
      ],
      "metadata": {
        "colab": {
          "base_uri": "https://localhost:8080/"
        },
        "id": "U3-KPOlX48mT",
        "outputId": "d43e075e-6358-416c-b8c8-fd8e8c4da741"
      },
      "execution_count": null,
      "outputs": [
        {
          "output_type": "execute_result",
          "data": {
            "text/plain": [
              "tensor([[1., 1., 1.],\n",
              "        [1., 1., 1.]])"
            ]
          },
          "metadata": {},
          "execution_count": 6
        }
      ]
    },
    {
      "cell_type": "code",
      "source": [
        "# using rand\n",
        "torch.rand(2,3)"
      ],
      "metadata": {
        "colab": {
          "base_uri": "https://localhost:8080/"
        },
        "id": "U_j_mRGK4-DA",
        "outputId": "9677e714-2b0e-437e-b156-22984c547e7f"
      },
      "execution_count": null,
      "outputs": [
        {
          "output_type": "execute_result",
          "data": {
            "text/plain": [
              "tensor([[0.3973, 0.3251, 0.1447],\n",
              "        [0.7236, 0.8306, 0.7908]])"
            ]
          },
          "metadata": {},
          "execution_count": 7
        }
      ]
    },
    {
      "cell_type": "code",
      "source": [
        "# use of seed ( it means it will give random values between 0 and 1 - but it we run it again , it will give some other value. So to keep the random values fixed , we will use manual_seed)\n",
        "torch.rand(2,3)"
      ],
      "metadata": {
        "colab": {
          "base_uri": "https://localhost:8080/"
        },
        "id": "lCAf-HRw5SiA",
        "outputId": "c0cbaae4-f4dc-4a78-f614-4234084d4764"
      },
      "execution_count": null,
      "outputs": [
        {
          "output_type": "execute_result",
          "data": {
            "text/plain": [
              "tensor([[0.7880, 0.8715, 0.3713],\n",
              "        [0.3365, 0.7459, 0.9488]])"
            ]
          },
          "metadata": {},
          "execution_count": 8
        }
      ]
    },
    {
      "cell_type": "code",
      "source": [
        "# manual_seed\n",
        "torch.manual_seed(100)\n",
        "torch.rand(2,3)"
      ],
      "metadata": {
        "colab": {
          "base_uri": "https://localhost:8080/"
        },
        "id": "DvAqsoFG5UMr",
        "outputId": "37e175a4-d12f-4aba-a567-12ce1580e541"
      },
      "execution_count": null,
      "outputs": [
        {
          "output_type": "execute_result",
          "data": {
            "text/plain": [
              "tensor([[0.1117, 0.8158, 0.2626],\n",
              "        [0.4839, 0.6765, 0.7539]])"
            ]
          },
          "metadata": {},
          "execution_count": 9
        }
      ]
    },
    {
      "cell_type": "code",
      "source": [
        "torch.manual_seed(100)\n",
        "torch.rand(2,3)"
      ],
      "metadata": {
        "colab": {
          "base_uri": "https://localhost:8080/"
        },
        "id": "96Akgtgs5Ulp",
        "outputId": "d2d274f4-2a81-409a-80cb-57195432e754"
      },
      "execution_count": null,
      "outputs": [
        {
          "output_type": "execute_result",
          "data": {
            "text/plain": [
              "tensor([[0.1117, 0.8158, 0.2626],\n",
              "        [0.4839, 0.6765, 0.7539]])"
            ]
          },
          "metadata": {},
          "execution_count": 10
        }
      ]
    },
    {
      "cell_type": "code",
      "source": [
        "# using tensor\n",
        "torch.tensor([[1,2,3],[4,5,6]])"
      ],
      "metadata": {
        "colab": {
          "base_uri": "https://localhost:8080/"
        },
        "id": "-YLLqcGB4_4J",
        "outputId": "ac6d8d99-0195-4bdf-e525-de9287de6531"
      },
      "execution_count": null,
      "outputs": [
        {
          "output_type": "execute_result",
          "data": {
            "text/plain": [
              "tensor([[1, 2, 3],\n",
              "        [4, 5, 6]])"
            ]
          },
          "metadata": {},
          "execution_count": 11
        }
      ]
    },
    {
      "cell_type": "code",
      "source": [
        "# other ways\n",
        "\n",
        "# arange ( range from 1 to 10 here)\n",
        "print(\"using arange \",torch.arange(1,10))\n",
        "\n",
        "# arange with step of 2\n",
        "print(\"using arange with step \",torch.arange(1,10,2))\n",
        "\n",
        "# using linspace ( 0 to 10 tak we created evenly space)\n",
        "print(\"using linspace \",torch.linspace(0,10,10))\n",
        "\n",
        "# using eye ( identity matrix where diagonal is 1 )\n",
        "print(\"using eye \",torch.eye(5))\n",
        "\n",
        "# using full ( we want 3*3 matrix where each value is 5)\n",
        "print(\"using full \",torch.full((3,3),5))"
      ],
      "metadata": {
        "colab": {
          "base_uri": "https://localhost:8080/"
        },
        "id": "nLj35yxr6Qgv",
        "outputId": "f03028f2-fc73-49cd-93f3-ef7f86506966"
      },
      "execution_count": null,
      "outputs": [
        {
          "output_type": "stream",
          "name": "stdout",
          "text": [
            "using arange  tensor([1, 2, 3, 4, 5, 6, 7, 8, 9])\n",
            "using arange with step  tensor([1, 3, 5, 7, 9])\n",
            "using linspace  tensor([ 0.0000,  1.1111,  2.2222,  3.3333,  4.4444,  5.5556,  6.6667,  7.7778,\n",
            "         8.8889, 10.0000])\n",
            "using eye  tensor([[1., 0., 0., 0., 0.],\n",
            "        [0., 1., 0., 0., 0.],\n",
            "        [0., 0., 1., 0., 0.],\n",
            "        [0., 0., 0., 1., 0.],\n",
            "        [0., 0., 0., 0., 1.]])\n",
            "using full  tensor([[5, 5, 5],\n",
            "        [5, 5, 5],\n",
            "        [5, 5, 5]])\n"
          ]
        }
      ]
    },
    {
      "cell_type": "markdown",
      "source": [
        "## Tensor Shapes"
      ],
      "metadata": {
        "id": "0ejaUWSkinz0"
      }
    },
    {
      "cell_type": "code",
      "source": [
        "x = torch.tensor([[1,2,3],[4,5,6]])\n",
        "x"
      ],
      "metadata": {
        "colab": {
          "base_uri": "https://localhost:8080/"
        },
        "id": "HDrr5mQ86R4K",
        "outputId": "60f1cb4e-527d-4038-ad41-c9487811f0fb"
      },
      "execution_count": null,
      "outputs": [
        {
          "output_type": "execute_result",
          "data": {
            "text/plain": [
              "tensor([[1, 2, 3],\n",
              "        [4, 5, 6]])"
            ]
          },
          "metadata": {},
          "execution_count": 13
        }
      ]
    },
    {
      "cell_type": "code",
      "source": [
        "# ( 2 rows 3 columns )\n",
        "x.shape"
      ],
      "metadata": {
        "colab": {
          "base_uri": "https://localhost:8080/"
        },
        "id": "xGZhrLablBq-",
        "outputId": "657ec591-3958-4519-b6b8-82690be1c4a2"
      },
      "execution_count": null,
      "outputs": [
        {
          "output_type": "execute_result",
          "data": {
            "text/plain": [
              "torch.Size([2, 3])"
            ]
          },
          "metadata": {},
          "execution_count": 14
        }
      ]
    },
    {
      "cell_type": "code",
      "source": [
        "# suppose we want to copy the shape of one tensor to another ( values will be different)\n",
        "torch.empty_like(x)"
      ],
      "metadata": {
        "colab": {
          "base_uri": "https://localhost:8080/"
        },
        "id": "NEQW9QhmlKXA",
        "outputId": "8166b092-9139-4262-d812-6b0afe9ad9b1"
      },
      "execution_count": null,
      "outputs": [
        {
          "output_type": "execute_result",
          "data": {
            "text/plain": [
              "tensor([[    132108263824816,     132108263824816,                   0],\n",
              "        [                  0,                   0, 7310593858020254331]])"
            ]
          },
          "metadata": {},
          "execution_count": 15
        }
      ]
    },
    {
      "cell_type": "code",
      "source": [
        "# create a tensor of (2,3) same as above x but now all values should be 0\n",
        "torch.zeros_like(x)"
      ],
      "metadata": {
        "colab": {
          "base_uri": "https://localhost:8080/"
        },
        "id": "PyyKSNHTlXMU",
        "outputId": "f51660a9-90f5-479a-c516-81b2599d73d2"
      },
      "execution_count": null,
      "outputs": [
        {
          "output_type": "execute_result",
          "data": {
            "text/plain": [
              "tensor([[0, 0, 0],\n",
              "        [0, 0, 0]])"
            ]
          },
          "metadata": {},
          "execution_count": 16
        }
      ]
    },
    {
      "cell_type": "code",
      "source": [
        "# create a tensor of (2,3) same as above x but now all values should be 1\n",
        "torch.ones_like(x)"
      ],
      "metadata": {
        "colab": {
          "base_uri": "https://localhost:8080/"
        },
        "id": "WtKV7Wxalb3l",
        "outputId": "56a7109c-e41a-4ae7-e351-29f5111d9b61"
      },
      "execution_count": null,
      "outputs": [
        {
          "output_type": "execute_result",
          "data": {
            "text/plain": [
              "tensor([[1, 1, 1],\n",
              "        [1, 1, 1]])"
            ]
          },
          "metadata": {},
          "execution_count": 17
        }
      ]
    },
    {
      "cell_type": "code",
      "source": [
        "# create a tensor of (2,3) same as above x but now all values should be random\n",
        "#torch.rand_like(x)\n",
        "# this will throw an error as in x tensor we had all values as int but we know rand gives us random values between 0 and 1 so thats why we need to typecast it to float first"
      ],
      "metadata": {
        "id": "UUpWcTGViXAT"
      },
      "execution_count": null,
      "outputs": []
    },
    {
      "cell_type": "code",
      "source": [
        "# to fix the above error we will to explicit write\n",
        "torch.rand_like(x, dtype=torch.float32)"
      ],
      "metadata": {
        "colab": {
          "base_uri": "https://localhost:8080/"
        },
        "id": "1WS_uk8ileyH",
        "outputId": "5aa3ff47-d953-4c3a-9bff-8b90a916fc68"
      },
      "execution_count": null,
      "outputs": [
        {
          "output_type": "execute_result",
          "data": {
            "text/plain": [
              "tensor([[0.2627, 0.0428, 0.2080],\n",
              "        [0.1180, 0.1217, 0.7356]])"
            ]
          },
          "metadata": {},
          "execution_count": 20
        }
      ]
    },
    {
      "cell_type": "markdown",
      "source": [
        "## Tensor Data Types"
      ],
      "metadata": {
        "id": "nYM1fR5BmxIf"
      }
    },
    {
      "cell_type": "code",
      "source": [
        "# find data type\n",
        "x.dtype"
      ],
      "metadata": {
        "colab": {
          "base_uri": "https://localhost:8080/"
        },
        "id": "Jy-rBsKSliAe",
        "outputId": "8398d477-e4d8-4642-ddc3-6d3dac159c19"
      },
      "execution_count": null,
      "outputs": [
        {
          "output_type": "execute_result",
          "data": {
            "text/plain": [
              "torch.int64"
            ]
          },
          "metadata": {},
          "execution_count": 21
        }
      ]
    },
    {
      "cell_type": "code",
      "source": [
        "# assign data type\n",
        "torch.tensor([1.0,2.0,3.0], dtype=torch.int32)"
      ],
      "metadata": {
        "colab": {
          "base_uri": "https://localhost:8080/"
        },
        "id": "6T2gmrujnaMA",
        "outputId": "4bf10a28-210d-4014-c612-3c0b53259bc0"
      },
      "execution_count": null,
      "outputs": [
        {
          "output_type": "execute_result",
          "data": {
            "text/plain": [
              "tensor([1, 2, 3], dtype=torch.int32)"
            ]
          },
          "metadata": {},
          "execution_count": 22
        }
      ]
    },
    {
      "cell_type": "code",
      "source": [
        "torch.tensor([1,2,3], dtype=torch.float64)"
      ],
      "metadata": {
        "colab": {
          "base_uri": "https://localhost:8080/"
        },
        "id": "wZ8lMLsInffd",
        "outputId": "0d92d14d-3ffd-44aa-9716-afd238ee7716"
      },
      "execution_count": null,
      "outputs": [
        {
          "output_type": "execute_result",
          "data": {
            "text/plain": [
              "tensor([1., 2., 3.], dtype=torch.float64)"
            ]
          },
          "metadata": {},
          "execution_count": 23
        }
      ]
    },
    {
      "cell_type": "code",
      "source": [
        "# using to()\n",
        "x.to(torch.float32)"
      ],
      "metadata": {
        "colab": {
          "base_uri": "https://localhost:8080/"
        },
        "id": "WTAB-h_ing07",
        "outputId": "c087f80c-be43-476e-b2e7-4d61c10de6cd"
      },
      "execution_count": null,
      "outputs": [
        {
          "output_type": "execute_result",
          "data": {
            "text/plain": [
              "tensor([[1., 2., 3.],\n",
              "        [4., 5., 6.]])"
            ]
          },
          "metadata": {},
          "execution_count": 24
        }
      ]
    },
    {
      "cell_type": "markdown",
      "source": [
        "| **Data Type**             | **Dtype**         | **Description**                                                                                                                                                                |\n",
        "|---------------------------|-------------------|--------------------------------------------------------------------------------------------------------------------------------------------------------------------------------|\n",
        "| **32-bit Floating Point** | `torch.float32`   | Standard floating-point type used for most deep learning tasks. Provides a balance between precision and memory usage.                                                         |\n",
        "| **64-bit Floating Point** | `torch.float64`   | Double-precision floating point. Useful for high-precision numerical tasks but uses more memory.                                                                               |\n",
        "| **16-bit Floating Point** | `torch.float16`   | Half-precision floating point. Commonly used in mixed-precision training to reduce memory and computational overhead on modern GPUs.                                            |\n",
        "| **BFloat16**              | `torch.bfloat16`  | Brain floating-point format with reduced precision compared to `float16`. Used in mixed-precision training, especially on TPUs.                                                |\n",
        "| **8-bit Floating Point**  | `torch.float8`    | Ultra-low-precision floating point. Used for experimental applications and extreme memory-constrained environments (less common).                                               |\n",
        "| **8-bit Integer**         | `torch.int8`      | 8-bit signed integer. Used for quantized models to save memory and computation in inference.                                                                                   |\n",
        "| **16-bit Integer**        | `torch.int16`     | 16-bit signed integer. Useful for special numerical tasks requiring intermediate precision.                                                                                    |\n",
        "| **32-bit Integer**        | `torch.int32`     | Standard signed integer type. Commonly used for indexing and general-purpose numerical tasks.                                                                                  |\n",
        "| **64-bit Integer**        | `torch.int64`     | Long integer type. Often used for large indexing arrays or for tasks involving large numbers.                                                                                  |\n",
        "| **8-bit Unsigned Integer**| `torch.uint8`     | 8-bit unsigned integer. Commonly used for image data (e.g., pixel values between 0 and 255).                                                                                    |\n",
        "| **Boolean**               | `torch.bool`      | Boolean type, stores `True` or `False` values. Often used for masks in logical operations.                                                                                      |\n",
        "| **Complex 64**            | `torch.complex64` | Complex number type with 32-bit real and 32-bit imaginary parts. Used for scientific and signal processing tasks.                                                               |\n",
        "| **Complex 128**           | `torch.complex128`| Complex number type with 64-bit real and 64-bit imaginary parts. Offers higher precision but uses more memory.                                                                 |\n",
        "| **Quantized Integer**     | `torch.qint8`     | Quantized signed 8-bit integer. Used in quantized models for efficient inference.                                                                                              |\n",
        "| **Quantized Unsigned Integer** | `torch.quint8` | Quantized unsigned 8-bit integer. Often used for quantized tensors in image-related tasks.                                                                                     |\n"
      ],
      "metadata": {
        "id": "dLm25jhknmuQ"
      }
    },
    {
      "cell_type": "markdown",
      "source": [
        "## Mathematical operations"
      ],
      "metadata": {
        "id": "baPoka3lqpEQ"
      }
    },
    {
      "cell_type": "markdown",
      "source": [
        "### 1. Scalar operation"
      ],
      "metadata": {
        "id": "wre7rSdlqsOB"
      }
    },
    {
      "cell_type": "code",
      "source": [
        "x = torch.rand(2,2)\n",
        "x"
      ],
      "metadata": {
        "colab": {
          "base_uri": "https://localhost:8080/"
        },
        "id": "CS69nYyanqYD",
        "outputId": "5f95ae37-e682-4a4a-ffe6-f2a2e0879942"
      },
      "execution_count": null,
      "outputs": [
        {
          "output_type": "execute_result",
          "data": {
            "text/plain": [
              "tensor([[0.7118, 0.7876],\n",
              "        [0.4183, 0.9014]])"
            ]
          },
          "metadata": {},
          "execution_count": 25
        }
      ]
    },
    {
      "cell_type": "code",
      "source": [
        "# addition\n",
        "x + 2\n",
        "# substraction\n",
        "x - 2\n",
        "# multiplication\n",
        "x * 3\n",
        "# division\n",
        "x / 3\n",
        "# int division\n",
        "(x * 100)//3\n",
        "# mod\n",
        "((x * 100)//3)%2\n",
        "# power\n",
        "x**2"
      ],
      "metadata": {
        "colab": {
          "base_uri": "https://localhost:8080/"
        },
        "id": "ztrwQq-cqyz9",
        "outputId": "c8b9a8d2-6a5b-4161-bc49-45703514780c"
      },
      "execution_count": null,
      "outputs": [
        {
          "output_type": "execute_result",
          "data": {
            "text/plain": [
              "tensor([[0.5066, 0.6203],\n",
              "        [0.1750, 0.8125]])"
            ]
          },
          "metadata": {},
          "execution_count": 26
        }
      ]
    },
    {
      "cell_type": "markdown",
      "source": [
        "### 2. Element wise operation"
      ],
      "metadata": {
        "id": "y2n84o2ZrGcY"
      }
    },
    {
      "cell_type": "code",
      "source": [
        "a = torch.rand(2,3)\n",
        "b = torch.rand(2,3)\n",
        "\n",
        "print(a)\n",
        "print(b)"
      ],
      "metadata": {
        "colab": {
          "base_uri": "https://localhost:8080/"
        },
        "id": "PcnbNatwq1_3",
        "outputId": "1f867322-0e1d-4114-cc0d-419ddb3f561f"
      },
      "execution_count": null,
      "outputs": [
        {
          "output_type": "stream",
          "name": "stdout",
          "text": [
            "tensor([[0.9969, 0.7565, 0.2239],\n",
            "        [0.3023, 0.1784, 0.8238]])\n",
            "tensor([[0.5557, 0.9770, 0.4440],\n",
            "        [0.9478, 0.7445, 0.4892]])\n"
          ]
        }
      ]
    },
    {
      "cell_type": "code",
      "source": [
        "# add\n",
        "a + b\n",
        "# sub\n",
        "a - b\n",
        "# multiply\n",
        "a * b\n",
        "# division\n",
        "a / b\n",
        "# power\n",
        "a ** b\n",
        "# mod\n",
        "a % b"
      ],
      "metadata": {
        "colab": {
          "base_uri": "https://localhost:8080/"
        },
        "id": "Qye9acabrUae",
        "outputId": "c4ffd9b7-fc09-4c7d-f5f8-7c92e426e5cd"
      },
      "execution_count": null,
      "outputs": [
        {
          "output_type": "execute_result",
          "data": {
            "text/plain": [
              "tensor([[0.4411, 0.7565, 0.2239],\n",
              "        [0.3023, 0.1784, 0.3346]])"
            ]
          },
          "metadata": {},
          "execution_count": 28
        }
      ]
    },
    {
      "cell_type": "code",
      "source": [
        "c = torch.tensor([1, -2, 3, -4])"
      ],
      "metadata": {
        "id": "ftIq3-30rnhR"
      },
      "execution_count": null,
      "outputs": []
    },
    {
      "cell_type": "code",
      "source": [
        "# abs\n",
        "torch.abs(c)"
      ],
      "metadata": {
        "colab": {
          "base_uri": "https://localhost:8080/"
        },
        "id": "GHWZWPxWr4rG",
        "outputId": "758b0d17-2134-4171-fbb0-0eee9152e172"
      },
      "execution_count": null,
      "outputs": [
        {
          "output_type": "execute_result",
          "data": {
            "text/plain": [
              "tensor([1, 2, 3, 4])"
            ]
          },
          "metadata": {},
          "execution_count": 30
        }
      ]
    },
    {
      "cell_type": "code",
      "source": [
        "# negative\n",
        "torch.neg(c)"
      ],
      "metadata": {
        "colab": {
          "base_uri": "https://localhost:8080/"
        },
        "id": "kROGMVNtrtfT",
        "outputId": "a6252a77-c57d-4a61-8dbe-d55eb3d5394c"
      },
      "execution_count": null,
      "outputs": [
        {
          "output_type": "execute_result",
          "data": {
            "text/plain": [
              "tensor([-1,  2, -3,  4])"
            ]
          },
          "metadata": {},
          "execution_count": 31
        }
      ]
    },
    {
      "cell_type": "code",
      "source": [
        "d = torch.tensor([1.9, 2.3, 3.7, 4.4])"
      ],
      "metadata": {
        "id": "U2RLWzlaryKh"
      },
      "execution_count": null,
      "outputs": []
    },
    {
      "cell_type": "code",
      "source": [
        "# round\n",
        "torch.round(d)"
      ],
      "metadata": {
        "colab": {
          "base_uri": "https://localhost:8080/"
        },
        "id": "g4OrL7w9sAWF",
        "outputId": "45afb2f9-37f7-4ae1-f314-4fb94a8d76c9"
      },
      "execution_count": null,
      "outputs": [
        {
          "output_type": "execute_result",
          "data": {
            "text/plain": [
              "tensor([2., 2., 4., 4.])"
            ]
          },
          "metadata": {},
          "execution_count": 33
        }
      ]
    },
    {
      "cell_type": "code",
      "source": [
        "# ceil\n",
        "torch.ceil(d)"
      ],
      "metadata": {
        "colab": {
          "base_uri": "https://localhost:8080/"
        },
        "id": "1fPsOYOAsEE6",
        "outputId": "5b560f16-117f-4f99-fd84-ca4da5777758"
      },
      "execution_count": null,
      "outputs": [
        {
          "output_type": "execute_result",
          "data": {
            "text/plain": [
              "tensor([2., 3., 4., 5.])"
            ]
          },
          "metadata": {},
          "execution_count": 34
        }
      ]
    },
    {
      "cell_type": "code",
      "source": [
        "# floor\n",
        "torch.floor(d)"
      ],
      "metadata": {
        "colab": {
          "base_uri": "https://localhost:8080/"
        },
        "id": "ilT0yf1TsE6G",
        "outputId": "852f617f-8d88-44c2-9bd5-f4989ba8871d"
      },
      "execution_count": null,
      "outputs": [
        {
          "output_type": "execute_result",
          "data": {
            "text/plain": [
              "tensor([1., 2., 3., 4.])"
            ]
          },
          "metadata": {},
          "execution_count": 35
        }
      ]
    },
    {
      "cell_type": "code",
      "source": [
        "# clamp\n",
        "torch.clamp(d, min=2, max=3)"
      ],
      "metadata": {
        "colab": {
          "base_uri": "https://localhost:8080/"
        },
        "id": "ZzVkY4xgsFvP",
        "outputId": "65618b39-3cbe-4067-d1f2-c0f0b30330a0"
      },
      "execution_count": null,
      "outputs": [
        {
          "output_type": "execute_result",
          "data": {
            "text/plain": [
              "tensor([2.0000, 2.3000, 3.0000, 3.0000])"
            ]
          },
          "metadata": {},
          "execution_count": 36
        }
      ]
    },
    {
      "cell_type": "markdown",
      "source": [
        "### 3. Reduction operation"
      ],
      "metadata": {
        "id": "4vWfG_ZmsN0J"
      }
    },
    {
      "cell_type": "code",
      "source": [
        "e = torch.randint(size=(2,3), low=0, high=10, dtype=torch.float32)\n",
        "e"
      ],
      "metadata": {
        "colab": {
          "base_uri": "https://localhost:8080/"
        },
        "id": "JQBlGL52sGae",
        "outputId": "98f39fa3-c17d-4e84-91d6-1dbc38b24eb3"
      },
      "execution_count": null,
      "outputs": [
        {
          "output_type": "execute_result",
          "data": {
            "text/plain": [
              "tensor([[8., 0., 7.],\n",
              "        [0., 0., 9.]])"
            ]
          },
          "metadata": {},
          "execution_count": 37
        }
      ]
    },
    {
      "cell_type": "code",
      "source": [
        "# sum\n",
        "torch.sum(e)\n",
        "# sum along columns\n",
        "torch.sum(e, dim=0)\n",
        "# sum along rows\n",
        "torch.sum(e, dim=1)"
      ],
      "metadata": {
        "colab": {
          "base_uri": "https://localhost:8080/"
        },
        "id": "9o8zMdUosWSs",
        "outputId": "e1bf2e42-45cc-4e76-8d2a-79b8eea1ba0b"
      },
      "execution_count": null,
      "outputs": [
        {
          "output_type": "execute_result",
          "data": {
            "text/plain": [
              "tensor([15.,  9.])"
            ]
          },
          "metadata": {},
          "execution_count": 38
        }
      ]
    },
    {
      "cell_type": "code",
      "source": [
        "# mean\n",
        "torch.mean(e)\n",
        "# mean along col\n",
        "torch.mean(e, dim=0)"
      ],
      "metadata": {
        "colab": {
          "base_uri": "https://localhost:8080/"
        },
        "id": "5Am6Hrdssl90",
        "outputId": "91cbbc2a-3417-46ca-f113-63802618d6de"
      },
      "execution_count": null,
      "outputs": [
        {
          "output_type": "execute_result",
          "data": {
            "text/plain": [
              "tensor([4., 0., 8.])"
            ]
          },
          "metadata": {},
          "execution_count": 39
        }
      ]
    },
    {
      "cell_type": "code",
      "source": [
        "# median\n",
        "torch.median(e)"
      ],
      "metadata": {
        "colab": {
          "base_uri": "https://localhost:8080/"
        },
        "id": "wIXESOkIs8M8",
        "outputId": "d0e252fe-6aab-47d8-e26d-a48d22de5ede"
      },
      "execution_count": null,
      "outputs": [
        {
          "output_type": "execute_result",
          "data": {
            "text/plain": [
              "tensor(0.)"
            ]
          },
          "metadata": {},
          "execution_count": 40
        }
      ]
    },
    {
      "cell_type": "code",
      "source": [
        "# max and min\n",
        "torch.max(e)\n",
        "torch.min(e)"
      ],
      "metadata": {
        "colab": {
          "base_uri": "https://localhost:8080/"
        },
        "id": "RIs7y6cysnFT",
        "outputId": "5a8bf6b9-aabe-46cf-d758-eb2b123a9858"
      },
      "execution_count": null,
      "outputs": [
        {
          "output_type": "execute_result",
          "data": {
            "text/plain": [
              "tensor(0.)"
            ]
          },
          "metadata": {},
          "execution_count": 41
        }
      ]
    },
    {
      "cell_type": "code",
      "source": [
        "# product\n",
        "torch.prod(e)"
      ],
      "metadata": {
        "colab": {
          "base_uri": "https://localhost:8080/"
        },
        "id": "TIP4CUwasw4Q",
        "outputId": "05ed7222-76ce-411d-83ed-57712a305aec"
      },
      "execution_count": null,
      "outputs": [
        {
          "output_type": "execute_result",
          "data": {
            "text/plain": [
              "tensor(0.)"
            ]
          },
          "metadata": {},
          "execution_count": 42
        }
      ]
    },
    {
      "cell_type": "code",
      "source": [
        "# standard deviation\n",
        "torch.std(e)"
      ],
      "metadata": {
        "colab": {
          "base_uri": "https://localhost:8080/"
        },
        "id": "BAQIjNjwsyLF",
        "outputId": "373b6d98-01ab-461a-d6c8-9dec79afd14e"
      },
      "execution_count": null,
      "outputs": [
        {
          "output_type": "execute_result",
          "data": {
            "text/plain": [
              "tensor(4.4272)"
            ]
          },
          "metadata": {},
          "execution_count": 44
        }
      ]
    },
    {
      "cell_type": "code",
      "source": [
        "# variance\n",
        "torch.var(e)"
      ],
      "metadata": {
        "colab": {
          "base_uri": "https://localhost:8080/"
        },
        "id": "78S1Ggv_s2nC",
        "outputId": "5f041897-bbe1-4a58-acfe-27a6c58f7623"
      },
      "execution_count": null,
      "outputs": [
        {
          "output_type": "execute_result",
          "data": {
            "text/plain": [
              "tensor(19.6000)"
            ]
          },
          "metadata": {},
          "execution_count": 45
        }
      ]
    },
    {
      "cell_type": "code",
      "source": [
        "# argmax\n",
        "torch.argmax(e)"
      ],
      "metadata": {
        "colab": {
          "base_uri": "https://localhost:8080/"
        },
        "id": "EOtGIsd9s3UZ",
        "outputId": "63d41522-7732-4a79-cd6d-89df6727bc47"
      },
      "execution_count": null,
      "outputs": [
        {
          "output_type": "execute_result",
          "data": {
            "text/plain": [
              "tensor(5)"
            ]
          },
          "metadata": {},
          "execution_count": 46
        }
      ]
    },
    {
      "cell_type": "code",
      "source": [
        "# argmin\n",
        "torch.argmin(e)"
      ],
      "metadata": {
        "colab": {
          "base_uri": "https://localhost:8080/"
        },
        "id": "J23C1bwes6TL",
        "outputId": "85f28f1d-9aa4-41d1-b1f4-2e1cbac8fd7b"
      },
      "execution_count": null,
      "outputs": [
        {
          "output_type": "execute_result",
          "data": {
            "text/plain": [
              "tensor(1)"
            ]
          },
          "metadata": {},
          "execution_count": 47
        }
      ]
    },
    {
      "cell_type": "markdown",
      "source": [
        "### 4. Matrix operations"
      ],
      "metadata": {
        "id": "dw_h9fvMtLXw"
      }
    },
    {
      "cell_type": "code",
      "source": [
        "f = torch.randint(size=(2,3), low=0, high=10)\n",
        "g = torch.randint(size=(3,2), low=0, high=10)\n",
        "\n",
        "print(f)\n",
        "print(g)"
      ],
      "metadata": {
        "colab": {
          "base_uri": "https://localhost:8080/"
        },
        "id": "a54MqBBQs7BJ",
        "outputId": "02796240-d2ae-43c0-9875-0b1edfbdb7e8"
      },
      "execution_count": null,
      "outputs": [
        {
          "output_type": "stream",
          "name": "stdout",
          "text": [
            "tensor([[5, 7, 3],\n",
            "        [9, 4, 0]])\n",
            "tensor([[5, 7],\n",
            "        [5, 9],\n",
            "        [9, 7]])\n"
          ]
        }
      ]
    },
    {
      "cell_type": "code",
      "source": [
        "# matrix multiplcation\n",
        "torch.matmul(f, g)"
      ],
      "metadata": {
        "colab": {
          "base_uri": "https://localhost:8080/"
        },
        "id": "BqQ7sNBctWfS",
        "outputId": "2e1892e5-9ab1-45dd-dfa2-7460a8aaa63c"
      },
      "execution_count": null,
      "outputs": [
        {
          "output_type": "execute_result",
          "data": {
            "text/plain": [
              "tensor([[ 87, 119],\n",
              "        [ 65,  99]])"
            ]
          },
          "metadata": {},
          "execution_count": 49
        }
      ]
    },
    {
      "cell_type": "code",
      "source": [
        "vector1 = torch.tensor([1, 2])\n",
        "vector2 = torch.tensor([3, 4])\n",
        "\n",
        "# dot product\n",
        "torch.dot(vector1, vector2)"
      ],
      "metadata": {
        "colab": {
          "base_uri": "https://localhost:8080/"
        },
        "id": "CopN1Oe5tZrD",
        "outputId": "69753d24-51bc-483b-a211-ad8c8881b791"
      },
      "execution_count": null,
      "outputs": [
        {
          "output_type": "execute_result",
          "data": {
            "text/plain": [
              "tensor(11)"
            ]
          },
          "metadata": {},
          "execution_count": 50
        }
      ]
    },
    {
      "cell_type": "code",
      "source": [
        "# transpose\n",
        "torch.transpose(f, 0, 1)"
      ],
      "metadata": {
        "colab": {
          "base_uri": "https://localhost:8080/"
        },
        "id": "9Imz3Vq6ta4y",
        "outputId": "23acfcb1-61aa-4648-acda-8ab89d18459b"
      },
      "execution_count": null,
      "outputs": [
        {
          "output_type": "execute_result",
          "data": {
            "text/plain": [
              "tensor([[5, 9],\n",
              "        [7, 4],\n",
              "        [3, 0]])"
            ]
          },
          "metadata": {},
          "execution_count": 51
        }
      ]
    },
    {
      "cell_type": "code",
      "source": [
        "h = torch.randint(size=(3,3), low=0, high=10, dtype=torch.float32)\n",
        "h"
      ],
      "metadata": {
        "colab": {
          "base_uri": "https://localhost:8080/"
        },
        "id": "yEfuS9ZKtdSi",
        "outputId": "6612cb30-dffc-4e2a-99f4-b86395570d6b"
      },
      "execution_count": null,
      "outputs": [
        {
          "output_type": "execute_result",
          "data": {
            "text/plain": [
              "tensor([[5., 9., 8.],\n",
              "        [9., 7., 9.],\n",
              "        [2., 6., 7.]])"
            ]
          },
          "metadata": {},
          "execution_count": 52
        }
      ]
    },
    {
      "cell_type": "code",
      "source": [
        "# determinant\n",
        "torch.det(h)"
      ],
      "metadata": {
        "colab": {
          "base_uri": "https://localhost:8080/"
        },
        "id": "PqfUsUvttpXZ",
        "outputId": "32cb0e68-bbfe-469a-e18b-e7cd172e530b"
      },
      "execution_count": null,
      "outputs": [
        {
          "output_type": "execute_result",
          "data": {
            "text/plain": [
              "tensor(-110.)"
            ]
          },
          "metadata": {},
          "execution_count": 53
        }
      ]
    },
    {
      "cell_type": "code",
      "source": [
        "# inverse\n",
        "torch.inverse(h)"
      ],
      "metadata": {
        "colab": {
          "base_uri": "https://localhost:8080/"
        },
        "id": "X0khPormts14",
        "outputId": "aa89c367-ed84-402d-d8b1-bc061bb2b12a"
      },
      "execution_count": null,
      "outputs": [
        {
          "output_type": "execute_result",
          "data": {
            "text/plain": [
              "tensor([[ 0.0455,  0.1364, -0.2273],\n",
              "        [ 0.4091, -0.1727, -0.2455],\n",
              "        [-0.3636,  0.1091,  0.4182]])"
            ]
          },
          "metadata": {},
          "execution_count": 54
        }
      ]
    },
    {
      "cell_type": "markdown",
      "source": [
        "### 5. Comparison operations"
      ],
      "metadata": {
        "id": "-lEkBmv5t1nB"
      }
    },
    {
      "cell_type": "code",
      "source": [
        "i = torch.randint(size=(2,3), low=0, high=10)\n",
        "j = torch.randint(size=(2,3), low=0, high=10)\n",
        "\n",
        "print(i)\n",
        "print(j)"
      ],
      "metadata": {
        "colab": {
          "base_uri": "https://localhost:8080/"
        },
        "id": "G89Keg-xtxUr",
        "outputId": "7748615a-bc0c-4e08-cde6-e1fe84ad685c"
      },
      "execution_count": null,
      "outputs": [
        {
          "output_type": "stream",
          "name": "stdout",
          "text": [
            "tensor([[7, 8, 3],\n",
            "        [6, 1, 5]])\n",
            "tensor([[5, 0, 4],\n",
            "        [3, 8, 8]])\n"
          ]
        }
      ]
    },
    {
      "cell_type": "code",
      "source": [
        "# greater than\n",
        "i > j\n",
        "# less than\n",
        "i < j\n",
        "# equal to\n",
        "i == j\n",
        "# not equal to\n",
        "i != j\n",
        "# greater than equal to\n",
        "\n",
        "# less than equal to"
      ],
      "metadata": {
        "colab": {
          "base_uri": "https://localhost:8080/"
        },
        "id": "F5v--5uiuBWW",
        "outputId": "a41655bc-727b-469b-bfd8-cfcc72d30178"
      },
      "execution_count": null,
      "outputs": [
        {
          "output_type": "execute_result",
          "data": {
            "text/plain": [
              "tensor([[True, True, True],\n",
              "        [True, True, True]])"
            ]
          },
          "metadata": {},
          "execution_count": 56
        }
      ]
    },
    {
      "cell_type": "markdown",
      "source": [
        "### 6. Special functions"
      ],
      "metadata": {
        "id": "jd9JzlO1uaf3"
      }
    },
    {
      "cell_type": "code",
      "source": [
        "k = torch.randint(size=(2,3), low=0, high=10, dtype=torch.float32)\n",
        "k"
      ],
      "metadata": {
        "colab": {
          "base_uri": "https://localhost:8080/"
        },
        "id": "lKU6tQpyuY0M",
        "outputId": "c2012ad7-da11-4c0c-c30e-4a21bc79eddf"
      },
      "execution_count": null,
      "outputs": [
        {
          "output_type": "execute_result",
          "data": {
            "text/plain": [
              "tensor([[3., 3., 5.],\n",
              "        [0., 6., 4.]])"
            ]
          },
          "metadata": {},
          "execution_count": 57
        }
      ]
    },
    {
      "cell_type": "code",
      "source": [
        "# log\n",
        "torch.log(k)"
      ],
      "metadata": {
        "colab": {
          "base_uri": "https://localhost:8080/"
        },
        "id": "-gl1dhdVuDOE",
        "outputId": "62bcec92-9097-4fd1-ac3e-d803ea71bc55"
      },
      "execution_count": null,
      "outputs": [
        {
          "output_type": "execute_result",
          "data": {
            "text/plain": [
              "tensor([[1.0986, 1.0986, 1.6094],\n",
              "        [  -inf, 1.7918, 1.3863]])"
            ]
          },
          "metadata": {},
          "execution_count": 58
        }
      ]
    },
    {
      "cell_type": "code",
      "source": [
        "# exp\n",
        "torch.exp(k)"
      ],
      "metadata": {
        "colab": {
          "base_uri": "https://localhost:8080/"
        },
        "id": "rQSpBdkbujck",
        "outputId": "10f67fcd-b964-490d-d4b5-c1d5c41558bc"
      },
      "execution_count": null,
      "outputs": [
        {
          "output_type": "execute_result",
          "data": {
            "text/plain": [
              "tensor([[ 20.0855,  20.0855, 148.4132],\n",
              "        [  1.0000, 403.4288,  54.5981]])"
            ]
          },
          "metadata": {},
          "execution_count": 59
        }
      ]
    },
    {
      "cell_type": "code",
      "source": [
        "# sqrt\n",
        "torch.sqrt(k)"
      ],
      "metadata": {
        "colab": {
          "base_uri": "https://localhost:8080/"
        },
        "id": "gTDfXdbVukh0",
        "outputId": "f294ddb0-f41a-4769-c562-49243bd87fcc"
      },
      "execution_count": null,
      "outputs": [
        {
          "output_type": "execute_result",
          "data": {
            "text/plain": [
              "tensor([[1.7321, 1.7321, 2.2361],\n",
              "        [0.0000, 2.4495, 2.0000]])"
            ]
          },
          "metadata": {},
          "execution_count": 60
        }
      ]
    },
    {
      "cell_type": "code",
      "source": [
        "# sigmoid\n",
        "torch.sigmoid(k)"
      ],
      "metadata": {
        "colab": {
          "base_uri": "https://localhost:8080/"
        },
        "id": "d-rbMIVPunhr",
        "outputId": "b3893173-c806-42af-960d-e24b630183c8"
      },
      "execution_count": null,
      "outputs": [
        {
          "output_type": "execute_result",
          "data": {
            "text/plain": [
              "tensor([[0.9526, 0.9526, 0.9933],\n",
              "        [0.5000, 0.9975, 0.9820]])"
            ]
          },
          "metadata": {},
          "execution_count": 61
        }
      ]
    },
    {
      "cell_type": "code",
      "source": [
        "# softmax\n",
        "torch.softmax(k, dim=0)"
      ],
      "metadata": {
        "colab": {
          "base_uri": "https://localhost:8080/"
        },
        "id": "X74chVfQusqf",
        "outputId": "e2acad09-3655-481b-b4d2-5e9cc6e2640d"
      },
      "execution_count": null,
      "outputs": [
        {
          "output_type": "execute_result",
          "data": {
            "text/plain": [
              "tensor([[0.9526, 0.0474, 0.7311],\n",
              "        [0.0474, 0.9526, 0.2689]])"
            ]
          },
          "metadata": {},
          "execution_count": 62
        }
      ]
    },
    {
      "cell_type": "code",
      "source": [
        "# relu\n",
        "torch.relu(k)"
      ],
      "metadata": {
        "colab": {
          "base_uri": "https://localhost:8080/"
        },
        "id": "JnLG2JbyutvC",
        "outputId": "778531f6-a20b-4f24-ba3d-975f27ad9505"
      },
      "execution_count": null,
      "outputs": [
        {
          "output_type": "execute_result",
          "data": {
            "text/plain": [
              "tensor([[3., 3., 5.],\n",
              "        [0., 6., 4.]])"
            ]
          },
          "metadata": {},
          "execution_count": 63
        }
      ]
    },
    {
      "cell_type": "markdown",
      "source": [
        "## Inplace Operations"
      ],
      "metadata": {
        "id": "JQ7im-Mz9Mu9"
      }
    },
    {
      "cell_type": "code",
      "source": [
        "m = torch.rand(2,3)\n",
        "n = torch.rand(2,3)\n",
        "\n",
        "print(m)\n",
        "print(n)"
      ],
      "metadata": {
        "colab": {
          "base_uri": "https://localhost:8080/"
        },
        "id": "mKVMTBq7uufZ",
        "outputId": "0385c5b6-ed92-4943-fd68-175915ef13b5"
      },
      "execution_count": null,
      "outputs": [
        {
          "output_type": "stream",
          "name": "stdout",
          "text": [
            "tensor([[0.6574, 0.3451, 0.0453],\n",
            "        [0.9798, 0.5548, 0.6868]])\n",
            "tensor([[0.4920, 0.0748, 0.9605],\n",
            "        [0.3271, 0.0103, 0.9516]])\n"
          ]
        }
      ]
    },
    {
      "cell_type": "code",
      "source": [
        "m.add_(n)"
      ],
      "metadata": {
        "colab": {
          "base_uri": "https://localhost:8080/"
        },
        "id": "HmN2o2Ge_j8h",
        "outputId": "c129756b-acf5-4d36-af43-eae7740a631f"
      },
      "execution_count": null,
      "outputs": [
        {
          "output_type": "execute_result",
          "data": {
            "text/plain": [
              "tensor([[1.1494, 0.4199, 1.0058],\n",
              "        [1.3069, 0.5650, 1.6384]])"
            ]
          },
          "metadata": {},
          "execution_count": 65
        }
      ]
    },
    {
      "cell_type": "code",
      "source": [
        "m"
      ],
      "metadata": {
        "colab": {
          "base_uri": "https://localhost:8080/"
        },
        "id": "1k8bPLhgAN64",
        "outputId": "bd7a13ac-34b3-4bc6-f7ac-ea299bc8aa61"
      },
      "execution_count": null,
      "outputs": [
        {
          "output_type": "execute_result",
          "data": {
            "text/plain": [
              "tensor([[1.1494, 0.4199, 1.0058],\n",
              "        [1.3069, 0.5650, 1.6384]])"
            ]
          },
          "metadata": {},
          "execution_count": 66
        }
      ]
    },
    {
      "cell_type": "code",
      "source": [
        "n"
      ],
      "metadata": {
        "colab": {
          "base_uri": "https://localhost:8080/"
        },
        "id": "d_pBAPcGAkHW",
        "outputId": "f2097438-dc89-4b51-a6ff-995ad280f0d7"
      },
      "execution_count": null,
      "outputs": [
        {
          "output_type": "execute_result",
          "data": {
            "text/plain": [
              "tensor([[0.4920, 0.0748, 0.9605],\n",
              "        [0.3271, 0.0103, 0.9516]])"
            ]
          },
          "metadata": {},
          "execution_count": 67
        }
      ]
    },
    {
      "cell_type": "code",
      "source": [
        "torch.relu(m)"
      ],
      "metadata": {
        "colab": {
          "base_uri": "https://localhost:8080/"
        },
        "id": "8OhePrDbAmwh",
        "outputId": "5b4abb16-1edf-4413-f77d-a25b231cc17a"
      },
      "execution_count": null,
      "outputs": [
        {
          "output_type": "execute_result",
          "data": {
            "text/plain": [
              "tensor([[1.1494, 0.4199, 1.0058],\n",
              "        [1.3069, 0.5650, 1.6384]])"
            ]
          },
          "metadata": {},
          "execution_count": 68
        }
      ]
    },
    {
      "cell_type": "code",
      "source": [
        "m.relu_()"
      ],
      "metadata": {
        "colab": {
          "base_uri": "https://localhost:8080/"
        },
        "id": "M_s6WQ0pAuTG",
        "outputId": "97b61837-c84c-42a8-ed69-05cc126b66e5"
      },
      "execution_count": null,
      "outputs": [
        {
          "output_type": "execute_result",
          "data": {
            "text/plain": [
              "tensor([[1.1494, 0.4199, 1.0058],\n",
              "        [1.3069, 0.5650, 1.6384]])"
            ]
          },
          "metadata": {},
          "execution_count": 69
        }
      ]
    },
    {
      "cell_type": "code",
      "source": [
        "m"
      ],
      "metadata": {
        "colab": {
          "base_uri": "https://localhost:8080/"
        },
        "id": "sucQ4iPYAyqn",
        "outputId": "f3d9df31-ccaa-4666-c092-050996eae1e1"
      },
      "execution_count": null,
      "outputs": [
        {
          "output_type": "execute_result",
          "data": {
            "text/plain": [
              "tensor([[1.1494, 0.4199, 1.0058],\n",
              "        [1.3069, 0.5650, 1.6384]])"
            ]
          },
          "metadata": {},
          "execution_count": 70
        }
      ]
    },
    {
      "cell_type": "markdown",
      "source": [
        "## Copying a Tensor"
      ],
      "metadata": {
        "id": "7-SgjcqnCN9P"
      }
    },
    {
      "cell_type": "code",
      "source": [
        "a = torch.rand(2,3)\n",
        "a"
      ],
      "metadata": {
        "colab": {
          "base_uri": "https://localhost:8080/"
        },
        "id": "z8SCsW7kA0jt",
        "outputId": "e4cdae19-7f1b-4772-f8ed-b24c2990c144"
      },
      "execution_count": null,
      "outputs": [
        {
          "output_type": "execute_result",
          "data": {
            "text/plain": [
              "tensor([[0.2855, 0.2324, 0.9141],\n",
              "        [0.7668, 0.1659, 0.4393]])"
            ]
          },
          "metadata": {},
          "execution_count": 71
        }
      ]
    },
    {
      "cell_type": "code",
      "source": [
        "b = a"
      ],
      "metadata": {
        "id": "3Z0IUCnpCsCv"
      },
      "execution_count": null,
      "outputs": []
    },
    {
      "cell_type": "code",
      "source": [
        "b"
      ],
      "metadata": {
        "colab": {
          "base_uri": "https://localhost:8080/"
        },
        "id": "1YNvboxaECjm",
        "outputId": "1140b968-df01-41cc-e581-9c97d1c49708"
      },
      "execution_count": null,
      "outputs": [
        {
          "output_type": "execute_result",
          "data": {
            "text/plain": [
              "tensor([[0.2855, 0.2324, 0.9141],\n",
              "        [0.7668, 0.1659, 0.4393]])"
            ]
          },
          "metadata": {},
          "execution_count": 73
        }
      ]
    },
    {
      "cell_type": "code",
      "source": [
        "a[0][0] = 0"
      ],
      "metadata": {
        "id": "waV6eAuUEDzq"
      },
      "execution_count": null,
      "outputs": []
    },
    {
      "cell_type": "code",
      "source": [
        "a"
      ],
      "metadata": {
        "colab": {
          "base_uri": "https://localhost:8080/"
        },
        "id": "U7u-UDXpEIgJ",
        "outputId": "3d4091bf-d46e-4640-c5cd-c455468ef84d"
      },
      "execution_count": null,
      "outputs": [
        {
          "output_type": "execute_result",
          "data": {
            "text/plain": [
              "tensor([[0.0000, 0.2324, 0.9141],\n",
              "        [0.7668, 0.1659, 0.4393]])"
            ]
          },
          "metadata": {},
          "execution_count": 75
        }
      ]
    },
    {
      "cell_type": "code",
      "source": [
        "b"
      ],
      "metadata": {
        "colab": {
          "base_uri": "https://localhost:8080/"
        },
        "id": "-4tihkNkEJW3",
        "outputId": "7745a071-23c4-493c-cd7a-1f831f5aed46"
      },
      "execution_count": null,
      "outputs": [
        {
          "output_type": "execute_result",
          "data": {
            "text/plain": [
              "tensor([[0.0000, 0.2324, 0.9141],\n",
              "        [0.7668, 0.1659, 0.4393]])"
            ]
          },
          "metadata": {},
          "execution_count": 76
        }
      ]
    },
    {
      "cell_type": "code",
      "source": [
        "id(a)"
      ],
      "metadata": {
        "colab": {
          "base_uri": "https://localhost:8080/"
        },
        "id": "m8D9GAChEL7E",
        "outputId": "714fb521-0832-4923-bb61-8ad5c12b7852"
      },
      "execution_count": null,
      "outputs": [
        {
          "output_type": "execute_result",
          "data": {
            "text/plain": [
              "132103912397072"
            ]
          },
          "metadata": {},
          "execution_count": 77
        }
      ]
    },
    {
      "cell_type": "code",
      "source": [
        "id(b)"
      ],
      "metadata": {
        "colab": {
          "base_uri": "https://localhost:8080/"
        },
        "id": "vLh7o5KUEVJS",
        "outputId": "17ca80dc-85a7-41c1-cd67-7ed8d0f8906f"
      },
      "execution_count": null,
      "outputs": [
        {
          "output_type": "execute_result",
          "data": {
            "text/plain": [
              "132103912397072"
            ]
          },
          "metadata": {},
          "execution_count": 78
        }
      ]
    },
    {
      "cell_type": "code",
      "source": [
        "b = a.clone()"
      ],
      "metadata": {
        "id": "KWDEt8h8EW2i"
      },
      "execution_count": null,
      "outputs": []
    },
    {
      "cell_type": "code",
      "source": [
        "a"
      ],
      "metadata": {
        "colab": {
          "base_uri": "https://localhost:8080/"
        },
        "id": "ndhb6dktEcov",
        "outputId": "08da0b28-ae6e-4d4d-b9e3-0dbe28df4939"
      },
      "execution_count": null,
      "outputs": [
        {
          "output_type": "execute_result",
          "data": {
            "text/plain": [
              "tensor([[0.0000, 0.2324, 0.9141],\n",
              "        [0.7668, 0.1659, 0.4393]])"
            ]
          },
          "metadata": {},
          "execution_count": 80
        }
      ]
    },
    {
      "cell_type": "code",
      "source": [
        "b"
      ],
      "metadata": {
        "colab": {
          "base_uri": "https://localhost:8080/"
        },
        "id": "M1MgVSoXEd2E",
        "outputId": "13664242-3278-41e9-ed27-9dfc246ae8c6"
      },
      "execution_count": null,
      "outputs": [
        {
          "output_type": "execute_result",
          "data": {
            "text/plain": [
              "tensor([[0.0000, 0.2324, 0.9141],\n",
              "        [0.7668, 0.1659, 0.4393]])"
            ]
          },
          "metadata": {},
          "execution_count": 81
        }
      ]
    },
    {
      "cell_type": "code",
      "source": [
        "a[0][0] = 10"
      ],
      "metadata": {
        "id": "LGxrfDtTEeVI"
      },
      "execution_count": null,
      "outputs": []
    },
    {
      "cell_type": "code",
      "source": [
        "a"
      ],
      "metadata": {
        "colab": {
          "base_uri": "https://localhost:8080/"
        },
        "id": "KoGwR1k2Eg_1",
        "outputId": "c9f4d0bb-97a5-4bb7-8b23-219e1b7866b4"
      },
      "execution_count": null,
      "outputs": [
        {
          "output_type": "execute_result",
          "data": {
            "text/plain": [
              "tensor([[10.0000,  0.2324,  0.9141],\n",
              "        [ 0.7668,  0.1659,  0.4393]])"
            ]
          },
          "metadata": {},
          "execution_count": 83
        }
      ]
    },
    {
      "cell_type": "code",
      "source": [
        "b"
      ],
      "metadata": {
        "id": "hnmU7qDXEh_R",
        "outputId": "7c166fd6-1b94-4a7b-ecb6-a442953b1aa8",
        "colab": {
          "base_uri": "https://localhost:8080/"
        }
      },
      "execution_count": null,
      "outputs": [
        {
          "output_type": "execute_result",
          "data": {
            "text/plain": [
              "tensor([[0.0000, 0.2324, 0.9141],\n",
              "        [0.7668, 0.1659, 0.4393]])"
            ]
          },
          "metadata": {},
          "execution_count": 84
        }
      ]
    },
    {
      "cell_type": "code",
      "source": [
        "id(a)"
      ],
      "metadata": {
        "id": "5cy76FS5EjIz",
        "outputId": "819f0440-cc80-42ec-861e-7dd776fa86a6",
        "colab": {
          "base_uri": "https://localhost:8080/"
        }
      },
      "execution_count": null,
      "outputs": [
        {
          "output_type": "execute_result",
          "data": {
            "text/plain": [
              "132103912397072"
            ]
          },
          "metadata": {},
          "execution_count": 85
        }
      ]
    },
    {
      "cell_type": "code",
      "source": [
        "id(b)"
      ],
      "metadata": {
        "id": "jmBkTNQ8EmP1",
        "outputId": "64bfcc97-2afa-4c82-ef37-8cece370aca4",
        "colab": {
          "base_uri": "https://localhost:8080/"
        }
      },
      "execution_count": null,
      "outputs": [
        {
          "output_type": "execute_result",
          "data": {
            "text/plain": [
              "132103891621104"
            ]
          },
          "metadata": {},
          "execution_count": 86
        }
      ]
    },
    {
      "cell_type": "code",
      "source": [],
      "metadata": {
        "id": "W1SwQS8jEnW2"
      },
      "execution_count": null,
      "outputs": []
    }
  ]
}