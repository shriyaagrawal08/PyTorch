{
  "nbformat": 4,
  "nbformat_minor": 0,
  "metadata": {
    "colab": {
      "provenance": []
    },
    "kernelspec": {
      "name": "python3",
      "display_name": "Python 3"
    },
    "language_info": {
      "name": "python"
    }
  },
  "cells": [
    {
      "cell_type": "markdown",
      "source": [
        "## Improvements\n",
        "\n",
        "1. Building the neural network using nn module\n",
        "2. Using built-in activation function\n",
        "3. Using built-in loss function\n",
        "4. Using built-in optimizer"
      ],
      "metadata": {
        "id": "hTXmmpL2AKPu"
      }
    },
    {
      "cell_type": "markdown",
      "source": [
        "The nn module\n",
        "------------------------------------\n",
        "The torch.nn module in PyTorch is a core library that provides a wide array of classes and functions designed to help developers build neural networks efficiently and effectively. It abstracts the complexity of creating and training neural networks by offering pre-built layers,loss functions, activation functions, and other utilities, enabling you to focus on designing and experimenting with model architectures.\n",
        "\n",
        "Key Components of torch.nn:\n",
        "\n",
        "1. Modules (Layers):\n",
        "\n",
        "o nn.Module: The base class for all neural network modules. Your custom models and layers should subclass this class.\n",
        "\n",
        "o Common Layers: Includes layers like nn.Linear (fully connected layer), nn.Conv2d (convolutional layer), nn.LSTM (recurrent layer), and many others.\n",
        "\n",
        "2. Activation Functions:\n",
        "\n",
        "o Functions like nn.ReLU, nn.Sigmoid, and nn.Tanh introduce non-linearities to the model, allowing it to learn complex patterns.\n",
        "\n",
        "3. Loss Functions:\n",
        "Provides loss functions such as nn.CrossEntropyLoss, nn.MSELoss, and nn.NLLLoss to quantify the difference between the model's predictions and the actual targets.\n",
        "\n",
        "4. Container Modules:\n",
        "\n",
        "o nn.Sequential: A sequential container to stack layers in order.\n",
        "\n",
        "5. Regularization and Dropout:\n",
        "\n",
        "Layers like nn.Dropout and nn.BatchNorm2d help prevent overfitting and improve\n",
        "the model's ability to generalize to new data.\n",
        "\n"
      ],
      "metadata": {
        "id": "-5xl1zZgL0PS"
      }
    },
    {
      "cell_type": "code",
      "source": [
        "# create model class\n",
        "import torch\n",
        "import torch.nn as nn\n",
        "\n",
        "class Model(nn.Module):\n",
        "\n",
        "  def __init__(self, num_features):\n",
        "\n",
        "      super().__init__()\n",
        "      #self.linear1 = nn.Linear(num_features, 3)\n",
        "      #self.relu = nn.ReLU()\n",
        "      #self.linear2 = nn.Linear(3, 1)\n",
        "      #self.sigmoid = nn.Sigmoid()\n",
        "\n",
        "      self.network = nn.Sequential(\n",
        "        nn.Linear(num_features, 3),\n",
        "        nn.ReLU(),\n",
        "        nn.Linear(3, 1),\n",
        "        nn.Sigmoid()\n",
        "      )\n",
        "\n",
        "  def forward(self, features):\n",
        "\n",
        "      #out = self.linear1(features)\n",
        "      #out = self.relu(out)\n",
        "      #out = self.linear2(out)\n",
        "      #out = self.sigmoid(out)\n",
        "\n",
        "      out = self.network(features)\n",
        "      return out"
      ],
      "metadata": {
        "id": "JtbYIBUCN46Q"
      },
      "execution_count": 1,
      "outputs": []
    },
    {
      "cell_type": "code",
      "source": [
        "# create dataset\n",
        "features = torch.rand(10,5)\n",
        "\n",
        "# create model\n",
        "model = Model(features.shape[1])\n",
        "\n",
        "# call model for forward pass\n",
        "# model.forward(features)\n",
        "model(features)"
      ],
      "metadata": {
        "colab": {
          "base_uri": "https://localhost:8080/"
        },
        "id": "jAT3F3gdN5B-",
        "outputId": "680b6dca-b775-4e55-b708-59249a740633"
      },
      "execution_count": 2,
      "outputs": [
        {
          "output_type": "execute_result",
          "data": {
            "text/plain": [
              "tensor([[0.4208],\n",
              "        [0.4208],\n",
              "        [0.4208],\n",
              "        [0.4208],\n",
              "        [0.4208],\n",
              "        [0.4208],\n",
              "        [0.4208],\n",
              "        [0.4208],\n",
              "        [0.4208],\n",
              "        [0.4208]], grad_fn=<SigmoidBackward0>)"
            ]
          },
          "metadata": {},
          "execution_count": 2
        }
      ]
    },
    {
      "cell_type": "code",
      "source": [
        "# show model weights\n",
        "# model.linear1.weight\n",
        "model.network[0].weight"
      ],
      "metadata": {
        "colab": {
          "base_uri": "https://localhost:8080/"
        },
        "id": "BCKj1YtQN5E4",
        "outputId": "873a5c36-0420-44a7-dff1-c2f207c38bda"
      },
      "execution_count": 4,
      "outputs": [
        {
          "output_type": "execute_result",
          "data": {
            "text/plain": [
              "Parameter containing:\n",
              "tensor([[-0.2190, -0.0327, -0.1098,  0.2138, -0.4188],\n",
              "        [-0.2841,  0.1153,  0.3383, -0.2595,  0.1328],\n",
              "        [-0.2340,  0.3608, -0.2634, -0.3850, -0.1789]], requires_grad=True)"
            ]
          },
          "metadata": {},
          "execution_count": 4
        }
      ]
    },
    {
      "cell_type": "code",
      "source": [
        "# show model weights\n",
        "#model.linear2.weight\n",
        "model.network[2].weight"
      ],
      "metadata": {
        "colab": {
          "base_uri": "https://localhost:8080/"
        },
        "id": "GjNEMCSHCadS",
        "outputId": "2b9061da-a015-4ee7-c708-f213c573b502"
      },
      "execution_count": 6,
      "outputs": [
        {
          "output_type": "execute_result",
          "data": {
            "text/plain": [
              "Parameter containing:\n",
              "tensor([[ 0.3095, -0.0596,  0.5285]], requires_grad=True)"
            ]
          },
          "metadata": {},
          "execution_count": 6
        }
      ]
    },
    {
      "cell_type": "code",
      "source": [
        "# show model bias\n",
        "# model.linear1.bias\n",
        "model.network[0].bias"
      ],
      "metadata": {
        "colab": {
          "base_uri": "https://localhost:8080/"
        },
        "id": "22ULpCPVOu6v",
        "outputId": "d3e317ab-468c-4f0e-8f32-ee23180bd825"
      },
      "execution_count": 7,
      "outputs": [
        {
          "output_type": "execute_result",
          "data": {
            "text/plain": [
              "Parameter containing:\n",
              "tensor([-0.4430, -0.1831, -0.2917], requires_grad=True)"
            ]
          },
          "metadata": {},
          "execution_count": 7
        }
      ]
    },
    {
      "cell_type": "code",
      "source": [
        "# show model bias\n",
        "# model.linear2.bias\n",
        "model.network[2].bias"
      ],
      "metadata": {
        "colab": {
          "base_uri": "https://localhost:8080/"
        },
        "id": "XbNRxMi9CmYB",
        "outputId": "67b9196b-fe1f-40ac-a77e-f93206e3b6e4"
      },
      "execution_count": 8,
      "outputs": [
        {
          "output_type": "execute_result",
          "data": {
            "text/plain": [
              "Parameter containing:\n",
              "tensor([-0.3194], requires_grad=True)"
            ]
          },
          "metadata": {},
          "execution_count": 8
        }
      ]
    },
    {
      "cell_type": "code",
      "source": [
        "!pip install torchinfo"
      ],
      "metadata": {
        "colab": {
          "base_uri": "https://localhost:8080/"
        },
        "id": "dE1aWDSON5Hj",
        "outputId": "81b2749d-db83-488b-9e42-124fd8964833"
      },
      "execution_count": 9,
      "outputs": [
        {
          "output_type": "stream",
          "name": "stdout",
          "text": [
            "Collecting torchinfo\n",
            "  Downloading torchinfo-1.8.0-py3-none-any.whl.metadata (21 kB)\n",
            "Downloading torchinfo-1.8.0-py3-none-any.whl (23 kB)\n",
            "Installing collected packages: torchinfo\n",
            "Successfully installed torchinfo-1.8.0\n"
          ]
        }
      ]
    },
    {
      "cell_type": "code",
      "source": [
        "from torchinfo import summary\n",
        "\n",
        "summary(model, input_size=(10, 5))"
      ],
      "metadata": {
        "colab": {
          "base_uri": "https://localhost:8080/"
        },
        "id": "u831IrcFN5J7",
        "outputId": "e85f541a-8934-4506-aab0-f73e7ab8a11b"
      },
      "execution_count": 10,
      "outputs": [
        {
          "output_type": "execute_result",
          "data": {
            "text/plain": [
              "==========================================================================================\n",
              "Layer (type:depth-idx)                   Output Shape              Param #\n",
              "==========================================================================================\n",
              "Model                                    [10, 1]                   --\n",
              "├─Sequential: 1-1                        [10, 1]                   --\n",
              "│    └─Linear: 2-1                       [10, 3]                   18\n",
              "│    └─ReLU: 2-2                         [10, 3]                   --\n",
              "│    └─Linear: 2-3                       [10, 1]                   4\n",
              "│    └─Sigmoid: 2-4                      [10, 1]                   --\n",
              "==========================================================================================\n",
              "Total params: 22\n",
              "Trainable params: 22\n",
              "Non-trainable params: 0\n",
              "Total mult-adds (Units.MEGABYTES): 0.00\n",
              "==========================================================================================\n",
              "Input size (MB): 0.00\n",
              "Forward/backward pass size (MB): 0.00\n",
              "Params size (MB): 0.00\n",
              "Estimated Total Size (MB): 0.00\n",
              "=========================================================================================="
            ]
          },
          "metadata": {},
          "execution_count": 10
        }
      ]
    }
  ]
}